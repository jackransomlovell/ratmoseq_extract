{
 "cells": [
  {
   "cell_type": "code",
   "execution_count": 1,
   "metadata": {
    "vscode": {
     "languageId": "plaintext"
    }
   },
   "outputs": [],
   "source": [
    "import os\n",
    "from pathlib import Path\n",
    "from tqdm import tqdm\n",
    "command = 'ratmoseq-extract extract {depth_path} --sam2-checkpoint /path/to/your/sam2/checkpoints/sam2.1_hiera_tiny.pt --dlc-filename {keypoint_filename} --use-bground True --bground-type plane'"
   ]
  },
  {
   "cell_type": "markdown",
   "metadata": {},
   "source": [
    "# run below to get a list of all the files you will want to run extraction on\n",
    "- make sure to change the parent directory path, and the keypoint file name"
   ]
  },
  {
   "cell_type": "code",
   "execution_count": 2,
   "metadata": {},
   "outputs": [],
   "source": [
    "#modify these!!\n",
    "parentdir = '/n/groups/datta/jlove/data/rat_seq/rat_seq_paper/data/4weeks'\n",
    "keypoint_filename = 'ir_clippedDLC_resnet50_KeypointMoSeqDLCOct18shuffle1_50000.csv'\n",
    "###\n",
    "\n",
    "avis = list(Path(parentdir).glob(f'**/{keypoint_filename}'))\n",
    "avis = [x.parents[0] / 'depth.avi' for x in avis]\n",
    "exists = [x.exists() for x in avis]\n",
    "assert all(exists), 'some csvs have no depth, please exclude these from your list'"
   ]
  },
  {
   "cell_type": "code",
   "execution_count": 1,
   "metadata": {},
   "outputs": [],
   "source": [
    "for avi in tqdm(avis, total=len(avis)):\n",
    "    tmp = command.format(depth_path=str(avi), keypoint_filename=keypoint_filename)\n",
    "    os.system(f\"{tmp}\")"
   ]
  },
  {
   "cell_type": "code",
   "execution_count": null,
   "metadata": {},
   "outputs": [],
   "source": []
  }
 ],
 "metadata": {
  "kernelspec": {
   "display_name": "rmetst",
   "language": "python",
   "name": "rmetst"
  },
  "language_info": {
   "codemirror_mode": {
    "name": "ipython",
    "version": 3
   },
   "file_extension": ".py",
   "mimetype": "text/x-python",
   "name": "python",
   "nbconvert_exporter": "python",
   "pygments_lexer": "ipython3",
   "version": "3.10.16"
  }
 },
 "nbformat": 4,
 "nbformat_minor": 4
}
