{
 "cells": [
  {
   "cell_type": "code",
   "execution_count": 1,
   "metadata": {},
   "outputs": [
    {
     "name": "stdout",
     "output_type": "stream",
     "text": [
      "Loading DLC 3.0.0rc6...\n",
      "DLC loaded in light mode; you cannot use any GUI (labeling, relabeling and standalone GUI)\n"
     ]
    }
   ],
   "source": [
    "import numpy as np\n",
    "import seaborn as sns\n",
    "import matplotlib.pyplot as plt\n",
    "from pathlib import Path\n",
    "import imageio as iio\n",
    "import deeplabcut\n",
    "import subprocess\n",
    "import datetime\n",
    "from tqdm import tqdm\n"
   ]
  },
  {
   "cell_type": "code",
   "execution_count": 6,
   "metadata": {},
   "outputs": [],
   "source": [
    "import subprocess\n",
    "import numpy as np\n",
    "import cv2\n",
    "import datetime\n",
    "import deeplabcut\n",
    "\n",
    "def read_frames_chunked(filename, output_file, chunk_size=100, fps=30, pixel_format=\"gray16le\", movie_dtype=\"uint16\", frame_size=None, mapping=\"DEPTH\", finfo=None, **kwargs):\n",
    "    if finfo is None:\n",
    "        finfo = get_video_info(filename, **kwargs)\n",
    "    \n",
    "    if not frame_size:\n",
    "        frame_size = finfo[\"dims\"]\n",
    "    \n",
    "    total_frames = finfo[\"nframes\"]\n",
    "    fourcc = cv2.VideoWriter_fourcc(*'XVID')\n",
    "    video_writer = cv2.VideoWriter(str(output_file), fourcc, fps, (frame_size[0], frame_size[1]), isColor=False)\n",
    "    \n",
    "    for start in range(0, total_frames, chunk_size):\n",
    "        end = min(start + chunk_size, total_frames)\n",
    "        command = [\n",
    "            \"ffmpeg\", \"-loglevel\", \"fatal\", \"-ss\", str(datetime.timedelta(seconds=start / fps)), \"-i\", filename,\n",
    "            \"-vframes\", str(end - start), \"-f\", \"image2pipe\", \"-s\", f\"{frame_size[0]}x{frame_size[1]}\",\n",
    "            \"-pix_fmt\", pixel_format, \"-vcodec\", \"rawvideo\", \"-\"\n",
    "        ]\n",
    "        \n",
    "        if isinstance(mapping, str):\n",
    "            mapping_dict = get_stream_names(filename)\n",
    "            mapping = mapping_dict.get(mapping, 0)\n",
    "        \n",
    "        if filename.endswith((\".mkv\", \".avi\")):\n",
    "            command += [\"-map\", f\"0:{mapping}\", \"-vsync\", \"0\"]\n",
    "        \n",
    "        pipe = subprocess.Popen(command, stdout=subprocess.PIPE, stderr=subprocess.PIPE)\n",
    "        out, err = pipe.communicate()\n",
    "        \n",
    "        if err:\n",
    "            print(\"Error:\", err)\n",
    "            continue\n",
    "        \n",
    "        video_chunk = np.frombuffer(out, dtype=movie_dtype).reshape((end - start, frame_size[1], frame_size[0]))\n",
    "        \n",
    "        # Clipping and normalization\n",
    "        video_chunk = np.clip(video_chunk, 0, 1000)\n",
    "        video_chunk = (video_chunk / video_chunk.max() * 255).astype(np.uint8)\n",
    "        \n",
    "        for frame in video_chunk:\n",
    "            video_writer.write(frame)\n",
    "    \n",
    "    video_writer.release()\n",
    "\n",
    "def process_video(path, chunk_size=100, dlc_config='/n/groups/datta/jlove/data/rat_seq/rat_seq_paper/keypoint_model/config-v2.yaml'):\n",
    "    print('Processing video in chunks')\n",
    "    output_file = path.parent / 'ir_clipped.avi'\n",
    "    read_frames_chunked(path.as_posix(), output_file, chunk_size=chunk_size)\n",
    "    \n",
    "    videos = [output_file.as_posix()]\n",
    "    deeplabcut.analyze_videos(\n",
    "        dlc_config, videos, videotype='avi', shuffle=1, trainingsetindex=0, gputouse=0, save_as_csv=True, destfolder=None, dynamic=(True, .5, 10)\n",
    "    )\n",
    "    deeplabcut.filterpredictions(config, videos)\n",
    "    deeplabcut.create_labeled_video(dlc_config, videos, filtered=True, pcutoff=.3)\n"
   ]
  },
  {
   "cell_type": "code",
   "execution_count": 7,
   "metadata": {},
   "outputs": [],
   "source": [
    "folder = Path('/n/groups/datta/jlove/data/rat_seq/rat_seq_paper/data/14weeks/arid1b/cohort15')\n",
    "irs = list(folder.glob('**/ir.avi'))"
   ]
  },
  {
   "cell_type": "code",
   "execution_count": null,
   "metadata": {},
   "outputs": [
    {
     "name": "stdout",
     "output_type": "stream",
     "text": [
      "Processing video in chunks\n"
     ]
    }
   ],
   "source": [
    "process_video(irs[0])"
   ]
  },
  {
   "cell_type": "code",
   "execution_count": null,
   "metadata": {},
   "outputs": [],
   "source": []
  }
 ],
 "metadata": {
  "kernelspec": {
   "display_name": "DEEPLABCUT",
   "language": "python",
   "name": "deeplabcut"
  },
  "language_info": {
   "codemirror_mode": {
    "name": "ipython",
    "version": 3
   },
   "file_extension": ".py",
   "mimetype": "text/x-python",
   "name": "python",
   "nbconvert_exporter": "python",
   "pygments_lexer": "ipython3",
   "version": "3.10.16"
  }
 },
 "nbformat": 4,
 "nbformat_minor": 4
}
