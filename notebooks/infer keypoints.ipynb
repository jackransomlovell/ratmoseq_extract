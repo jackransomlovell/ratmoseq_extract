{
 "cells": [
  {
   "cell_type": "code",
   "execution_count": 1,
   "id": "be1b44bb-188b-4b84-8978-f2c2b0c756b1",
   "metadata": {},
   "outputs": [
    {
     "name": "stdout",
     "output_type": "stream",
     "text": [
      "Loading DLC 3.0.0rc6...\n",
      "DLC loaded in light mode; you cannot use any GUI (labeling, relabeling and standalone GUI)\n"
     ]
    }
   ],
   "source": [
    "import deeplabcut\n",
    "from pathlib import Path"
   ]
  },
  {
   "cell_type": "code",
   "execution_count": null,
   "id": "3433ff87",
   "metadata": {},
   "outputs": [],
   "source": [
    "!nvcc -V"
   ]
  },
  {
   "cell_type": "markdown",
   "id": "e6741391-d5bf-42b5-8d86-a7b6917452cb",
   "metadata": {},
   "source": [
    "# loading\n",
    "- we need to tell DLC where our config is, and what videos we want to infer\n",
    "- make sure to change the paths below!!"
   ]
  },
  {
   "cell_type": "code",
   "execution_count": 1,
   "id": "b6f141fd-c10d-4e70-9109-85d0e7ca53ca",
   "metadata": {},
   "outputs": [],
   "source": [
    "# replace with the path to your DLC config\n",
    "config = '/n/groups/datta/jlove/data/rat_seq/rat_seq_paper/keypoint_model/config-v2.yaml'"
   ]
  },
  {
   "cell_type": "code",
   "execution_count": null,
   "id": "a1f72486-5f86-4deb-a548-809b3f2449d0",
   "metadata": {},
   "outputs": [],
   "source": [
    "videos = Path('/n/groups/datta/jlove/data/rat_seq/rat_seq_paper/data/4weeks')\n",
    "videos = list(videos.glob('**/ir_clipped.avi'))"
   ]
  },
  {
   "cell_type": "markdown",
   "id": "cb1aceb4-1c2f-4a22-b3a7-157a7b014be3",
   "metadata": {},
   "source": [
    "# DLC\n",
    "- call the three functions below to get keypoints, filter them, and then generate mp4 videos"
   ]
  },
  {
   "cell_type": "code",
   "execution_count": null,
   "id": "307b42ec-2991-4a4b-93ed-cc587e65feb2",
   "metadata": {},
   "outputs": [],
   "source": [
    "deeplabcut.analyze_videos(config, videos, videotype='avi', shuffle=1, trainingsetindex=0, gputouse=0, save_as_csv=True, destfolder=None, dynamic=(True, .5, 10))"
   ]
  },
  {
   "cell_type": "code",
   "execution_count": null,
   "id": "1bb2365f-3ab1-455f-abf7-abb605d8e003",
   "metadata": {},
   "outputs": [],
   "source": [
    "deeplabcut.filterpredictions(config, videos)"
   ]
  },
  {
   "cell_type": "code",
   "execution_count": null,
   "id": "02f8cd6f-afae-4bd8-a615-cb769c172587",
   "metadata": {},
   "outputs": [],
   "source": [
    "deeplabcut.create_labeled_video(config, videos, filtered=True, pcutoff=.3)"
   ]
  }
 ],
 "metadata": {
  "kernelspec": {
   "display_name": "DEEPLABCUT",
   "language": "python",
   "name": "deeplabcut"
  },
  "language_info": {
   "codemirror_mode": {
    "name": "ipython",
    "version": 3
   },
   "file_extension": ".py",
   "mimetype": "text/x-python",
   "name": "python",
   "nbconvert_exporter": "python",
   "pygments_lexer": "ipython3",
   "version": "3.10.16"
  }
 },
 "nbformat": 4,
 "nbformat_minor": 5
}
