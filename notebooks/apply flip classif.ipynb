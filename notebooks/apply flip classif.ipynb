{
 "cells": [
  {
   "cell_type": "code",
   "execution_count": 1,
   "id": "1080de80-244c-4bfa-9508-46c1ae3866ab",
   "metadata": {},
   "outputs": [],
   "source": [
    "import h5py\n",
    "import joblib\n",
    "import numpy as np\n",
    "from tqdm import tqdm\n",
    "from pathlib import Path\n",
    "from ratmoseq_extract.flip import BatchPCA"
   ]
  },
  {
   "cell_type": "code",
   "execution_count": 2,
   "id": "327c65ec-af43-4773-9254-cc8ed43cd9f3",
   "metadata": {},
   "outputs": [],
   "source": [
    "python_script='''\n",
    "def get_flips(frames, flip):\n",
    "    flip = joblib.load(flip)\n",
    "    return flip.predict(frames)\n",
    "\n",
    "def apply_flips(h5, flip_classif, smoothing=0, save=True):\n",
    "    # apply flips\n",
    "    with h5py.File(h5, 'a') as f:\n",
    "        frames = f['frames'][:]\n",
    "        flips = get_flips(\n",
    "            frames, flip_classif\n",
    "        )\n",
    "        flip_inds = np.where(flips)\n",
    "        if save:\n",
    "            f['frames'][flip_inds] = np.rot90(\n",
    "                frames[flip_inds], k=2, axes=(1, 2)\n",
    "            )\n",
    "    return flip_inds\n",
    "\n",
    "import h5py\n",
    "import joblib\n",
    "import numpy as np\n",
    "from tqdm import tqdm\n",
    "from pathlib import Path\n",
    "from ratmoseq_extract.flip import BatchPCA\n",
    "flip_classif = '/n/groups/datta/jlove/data/rat_seq/rat_seq_paper/data/14weeks-flip.p'\n",
    "\n",
    "_ = apply_flips('{file}', flip_classif, save=True)\n",
    "'''"
   ]
  },
  {
   "cell_type": "code",
   "execution_count": 4,
   "id": "79a703ca-a42e-49c4-85a1-3199eead20ca",
   "metadata": {},
   "outputs": [],
   "source": [
    "bash_script = '''#!/bin/env bash\n",
    "#SBATCH -c 1\n",
    "#SBATCH -n 1\n",
    "#SBATCH --mem=64G\n",
    "#SBATCH -p short\n",
    "#SBATCH -t 00:30:00\n",
    "#SBATCH --output=/n/groups/datta/jlove/data/rat_seq/rat_seq_paper/notebooks/fig3/flip_out/sbatch-%j.out\n",
    "\n",
    "source $HOME/.bashrc\n",
    "conda activate ratmoseq_extract\n",
    "python '{script_path}'\n",
    "'''"
   ]
  },
  {
   "cell_type": "code",
   "execution_count": 30,
   "id": "f2a2f781-4e09-4679-b270-7915282fd7d5",
   "metadata": {},
   "outputs": [],
   "source": [
    "avis9 = list(Path('/n/groups/datta/jlove/data/rat_seq/rat_seq_paper/data/9weeks').glob('**/ir_clippedDLC_resnet50_KeypointMoSeqDLCOct18shuffle1_50000.csv'))\n",
    "avis4 = list(Path('/n/groups/datta/jlove/data/rat_seq/rat_seq_paper/data/4weeks').glob('**/ir_clippedDLC_resnet50_KeypointMoSeqDLCOct18shuffle1_50000.csv'))\n",
    "avis = avis9 #+ avis4\n",
    "avis = [x.parents[0] / 'depth.avi' for x in avis]\n",
    "exists = [x.exists() for x in avis]\n",
    "assert all(exists), 'some csvs have no depth'"
   ]
  },
  {
   "cell_type": "code",
   "execution_count": 31,
   "id": "b0770a06-eab5-4cb0-afc1-9cda4c8a81dc",
   "metadata": {},
   "outputs": [],
   "source": [
    "# for file in tqdm(avis, total=len(avis)):\n",
    "#     result = file.parents[0] / 'proc/results_00.h5'\n",
    "#     _ = apply_flips(result, flip_classif, save=True)"
   ]
  },
  {
   "cell_type": "code",
   "execution_count": 32,
   "id": "13142c38-de38-4d9b-92eb-2d5d6bfdfd63",
   "metadata": {},
   "outputs": [],
   "source": [
    "import os"
   ]
  },
  {
   "cell_type": "code",
   "execution_count": null,
   "id": "e2e9dc42-0435-4bf5-bd19-ccaccde71049",
   "metadata": {},
   "outputs": [
    {
     "name": "stdout",
     "output_type": "stream",
     "text": [
      "Submitted batch job 57865597\n",
      "Submitted batch job 57865598\n",
      "Submitted batch job 57865599\n",
      "Submitted batch job 57865600\n",
      "Submitted batch job 57865601\n",
      "Submitted batch job 57865602\n",
      "Submitted batch job 57865603\n",
      "Submitted batch job 57865604\n",
      "Submitted batch job 57865605\n",
      "Submitted batch job 57865606\n",
      "Submitted batch job 57865607\n",
      "Submitted batch job 57865608\n",
      "Submitted batch job 57865609\n",
      "Submitted batch job 57865610\n",
      "Submitted batch job 57865611\n",
      "Submitted batch job 57865613\n",
      "Submitted batch job 57865614\n",
      "Submitted batch job 57865615\n",
      "Submitted batch job 57865616\n",
      "Submitted batch job 57865617\n",
      "Submitted batch job 57865618\n",
      "Submitted batch job 57865619\n",
      "Submitted batch job 57865620\n",
      "Submitted batch job 57865621\n",
      "Submitted batch job 57865622\n",
      "Submitted batch job 57865623\n",
      "Submitted batch job 57865624\n",
      "Submitted batch job 57865625\n",
      "Submitted batch job 57865626\n",
      "Submitted batch job 57865627\n",
      "Submitted batch job 57865628\n",
      "Submitted batch job 57865629\n",
      "Submitted batch job 57865630\n",
      "Submitted batch job 57865631\n",
      "Submitted batch job 57865632\n",
      "Submitted batch job 57865633\n",
      "Submitted batch job 57865634\n",
      "Submitted batch job 57865635\n",
      "Submitted batch job 57865636\n",
      "Submitted batch job 57865637\n",
      "Submitted batch job 57865638\n",
      "Submitted batch job 57865639\n",
      "Submitted batch job 57865640\n",
      "Submitted batch job 57865641\n",
      "Submitted batch job 57865642\n",
      "Submitted batch job 57865643\n",
      "Submitted batch job 57865644\n"
     ]
    }
   ],
   "source": [
    "for avi in avis:\n",
    "    result = avi.parents[0] / 'proc/results_00.h5'\n",
    "    python_path = avi.parents[0] / 'proc' / 'flip.py'\n",
    "    sh_path = avi.parents[0] / 'proc' / 'flip.sh'\n",
    "    with open(python_path, 'w') as f:\n",
    "        f.write(python_script.format(file=result))\n",
    "    with open(sh_path, 'w') as f:\n",
    "        f.write(bash_script.format(script_path=python_path))\n",
    "    os.system(f\"sbatch '{sh_path}'\")"
   ]
  },
  {
   "cell_type": "code",
   "execution_count": null,
   "id": "5e1cdd47-3a72-4742-983c-e3baf84f7c5b",
   "metadata": {},
   "outputs": [],
   "source": []
  },
  {
   "cell_type": "code",
   "execution_count": null,
   "id": "54fad2ae-8721-4249-b249-da2223ab5e71",
   "metadata": {},
   "outputs": [],
   "source": []
  },
  {
   "cell_type": "markdown",
   "id": "16c237e5-a852-4c3d-b851-eb41ddcfb20c",
   "metadata": {},
   "source": [
    "# test 4,9 weeks"
   ]
  },
  {
   "cell_type": "code",
   "execution_count": 17,
   "id": "91511d41-57a7-4b4f-9ce1-5f480bc7e86a",
   "metadata": {},
   "outputs": [],
   "source": [
    "week4='/n/groups/datta/jlove/data/rat_seq/rat_seq_paper/data/4weeks/arid1b/cohort18/session_20240617101033/proc/results_00.h5'\n",
    "week9='/n/groups/datta/jlove/data/rat_seq/rat_seq_paper/data/9weeks/scn2a/cohort13/session_20240726100910/proc/results_00.h5'\n",
    "flip_classif = '/n/groups/datta/jlove/data/rat_seq/rat_seq_paper/data/14weeks-flip.p'"
   ]
  },
  {
   "cell_type": "code",
   "execution_count": 19,
   "id": "436862fa-8e1c-4626-81aa-1699b6fd036d",
   "metadata": {},
   "outputs": [],
   "source": [
    "def get_flips(frames, flip):\n",
    "    flip = joblib.load(flip)\n",
    "    return flip.predict(frames)\n",
    "\n",
    "def apply_flips(h5, flip_classif, smoothing=0, save=True):\n",
    "    # apply flips\n",
    "    with h5py.File(h5, 'r') as f:\n",
    "        frames = f['frames'][:1000]\n",
    "        flips = get_flips(\n",
    "            frames, flip_classif\n",
    "        )\n",
    "        flip_inds = np.where(flips)\n",
    "    return flip_inds"
   ]
  },
  {
   "cell_type": "code",
   "execution_count": 20,
   "id": "7a7722bb-6fe6-4603-9462-c582783073b5",
   "metadata": {},
   "outputs": [],
   "source": [
    "inds4 = apply_flips(week4, flip_classif)\n",
    "inds9 = apply_flips(week9, flip_classif)"
   ]
  },
  {
   "cell_type": "code",
   "execution_count": 26,
   "id": "537925ff-8d7e-4a00-ad3a-eeaecf65e7e4",
   "metadata": {},
   "outputs": [],
   "source": [
    "import matplotlib.pyplot as plt"
   ]
  },
  {
   "cell_type": "code",
   "execution_count": 28,
   "id": "c21188c3-1ab0-435f-a2b4-1c4f56d9cace",
   "metadata": {},
   "outputs": [
    {
     "data": {
      "image/png": "[encoded data removed]",
      "text/plain": [
       "<Figure size 640x480 with 1 Axes>"
      ]
     },
     "metadata": {},
     "output_type": "display_data"
    }
   ],
   "source": [
    "with h5py.File(week4, 'r') as f:\n",
    "    plt.imshow(f['frames'][inds4[0][1]])"
   ]
  },
  {
   "cell_type": "code",
   "execution_count": 29,
   "id": "3327c41b-1734-496b-863e-2a67a3fcd117",
   "metadata": {},
   "outputs": [
    {
     "data": {
      "image/png": "[encoded data removed]",
      "text/plain": [
       "<Figure size 640x480 with 1 Axes>"
      ]
     },
     "metadata": {},
     "output_type": "display_data"
    }
   ],
   "source": [
    "with h5py.File(week9, 'r') as f:\n",
    "    plt.imshow(f['frames'][inds9[0][1]])"
   ]
  },
  {
   "cell_type": "code",
   "execution_count": null,
   "id": "10d85989-cd76-47ed-b11a-b0eb38dfb482",
   "metadata": {},
   "outputs": [],
   "source": []
  }
 ],
 "metadata": {
  "kernelspec": {
   "display_name": "ratmoseq_extract",
   "language": "python",
   "name": "ratmoseq_extract"
  },
  "language_info": {
   "codemirror_mode": {
    "name": "ipython",
    "version": 3
   },
   "file_extension": ".py",
   "mimetype": "text/x-python",
   "name": "python",
   "nbconvert_exporter": "python",
   "pygments_lexer": "ipython3",
   "version": "3.10.16"
  }
 },
 "nbformat": 4,
 "nbformat_minor": 5
}
